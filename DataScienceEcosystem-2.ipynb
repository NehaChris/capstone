{
  "nbformat": 4,
  "nbformat_minor": 0,
  "metadata": {
    "colab": {
      "provenance": []
    },
    "kernelspec": {
      "name": "python3",
      "display_name": "Python 3"
    },
    "language_info": {
      "name": "python"
    }
  },
  "cells": [
    {
      "cell_type": "code",
      "execution_count": 2,
      "metadata": {
        "colab": {
          "base_uri": "https://localhost:8080/"
        },
        "id": "6WCSHnqdB7Nn",
        "outputId": "c18cf8d4-b4c1-4de4-fa9e-59aedb09e996"
      },
      "outputs": [
        {
          "output_type": "execute_result",
          "data": {
            "text/plain": [
              "{'cells': [], 'metadata': {}, 'nbformat': 4, 'nbformat_minor': 5}"
            ]
          },
          "metadata": {},
          "execution_count": 2
        }
      ],
      "source": [
        "{\n",
        "  \"cells\": [],\n",
        "  \"metadata\": {},\n",
        "  \"nbformat\": 4,\n",
        "  \"nbformat_minor\": 5\n",
        "}\n"
      ]
    },
    {
      "cell_type": "markdown",
      "source": [
        "# Data Science Tools and Ecosystem\n",
        "\n",
        "# Introduction\n",
        "In this notebook, Data Science Tools and Ecosystem are summarized.\n",
        "\n",
        "# Data Science Languages\n",
        "\n",
        "Some of the popular languages that Data Scientists use are:\n",
        "1. Python\n",
        "2. R\n",
        "3. SQL\n",
        "4. Julia\n",
        "5. Scala\n",
        "\n",
        "# Data Science Libraries\n",
        "\n",
        "Some of the commonly used libraries used by Data Scientists include:\n",
        "1. NumPy\n",
        "2. Pandas\n",
        "3. Matplotlib\n",
        "4. Scikit-learn\n",
        "5. TensorFlow\n",
        "\n",
        "# Data Science Tools\n",
        "\n",
        "| Data Science Tools        |\n",
        "|---------------------------|\n",
        "| Jupyter Notebook          |\n",
        "| RStudio                   |\n",
        "| Apache Zeppelin           |\n",
        "\n",
        "### Below are a few examples of evaluating arithmetic expressions in Python.\n",
        "\n",
        "# This is a simple arithmetic expression to multiply then add integers\n",
        "(3 * 4) + 5\n",
        "\n",
        "# This will convert 200 minutes to hours by dividing by 60\n",
        "200 / 60\n",
        "\n",
        "# Objectives\n",
        "\n",
        "**Objectives:**\n",
        "- List popular languages for Data Science\n",
        "- Identify commonly used libraries for Data Science\n",
        "- Understand key tools for development in Data Science\n",
        "- Evaluate arithmetic expressions in Python\n",
        "- Convert time units using Python\n",
        "\n",
        "## Author\n",
        "Neha Christina"
      ],
      "metadata": {
        "id": "527egnocDSFp"
      }
    }
  ]
}