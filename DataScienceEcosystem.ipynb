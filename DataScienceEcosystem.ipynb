{
  "cells": [],
  "metadata": {},
  "nbformat": 4,
  "nbformat_minor": 5
}


# Data Science Tools and Ecosystem

# Introduction
In this notebook, Data Science Tools and Ecosystem are summarized.

# Data Science Languages

Some of the popular languages that Data Scientists use are:
1. Python
2. R
3. SQL
4. Julia
5. Scala

# Data Science Libraries

Some of the commonly used libraries used by Data Scientists include:
1. NumPy
2. Pandas
3. Matplotlib
4. Scikit-learn
5. TensorFlow

# Data Science Tools

| Data Science Tools        |
|---------------------------|
| Jupyter Notebook          |
| RStudio                   |
| Apache Zeppelin           |

### Below are a few examples of evaluating arithmetic expressions in Python.

# This is a simple arithmetic expression to multiply then add integers
(3 * 4) + 5

# This will convert 200 minutes to hours by dividing by 60
200 / 60

# Objectives

**Objectives:**
- List popular languages for Data Science
- Identify commonly used libraries for Data Science
- Understand key tools for development in Data Science
- Evaluate arithmetic expressions in Python
- Convert time units using Python

## Author
Neha Christina
